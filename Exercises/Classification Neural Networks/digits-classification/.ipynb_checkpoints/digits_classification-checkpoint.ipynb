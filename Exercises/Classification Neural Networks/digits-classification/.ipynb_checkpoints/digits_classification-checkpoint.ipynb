{
 "cells": [
  {
   "cell_type": "code",
   "execution_count": null,
   "metadata": {
    "id": "OEv4PvkIbatp"
   },
   "outputs": [],
   "source": [
    "import tensorflow as tf"
   ]
  },
  {
   "cell_type": "code",
   "execution_count": null,
   "metadata": {
    "colab": {
     "base_uri": "https://localhost:8080/"
    },
    "id": "atF4abDRgMQh",
    "outputId": "fec63a81-35b5-4f99-9526-7f1a03f47682"
   },
   "outputs": [],
   "source": [
    "tf.config.list_physical_devices()"
   ]
  },
  {
   "cell_type": "code",
   "execution_count": null,
   "metadata": {
    "colab": {
     "base_uri": "https://localhost:8080/"
    },
    "id": "Mu3OTVGDbnPX",
    "outputId": "874a7f8f-93ab-4849-c6e1-a9cdeb59a8f7"
   },
   "outputs": [],
   "source": [
    "print(tf.config.list_physical_devices('GPU'))"
   ]
  },
  {
   "cell_type": "code",
   "execution_count": null,
   "metadata": {
    "colab": {
     "base_uri": "https://localhost:8080/"
    },
    "id": "BzWVLDYJbrye",
    "outputId": "0c5ee39c-b751-4199-89dc-70edde506ea0"
   },
   "outputs": [],
   "source": [
    "!nvidia-smi"
   ]
  },
  {
   "cell_type": "code",
   "execution_count": null,
   "metadata": {
    "id": "SStiR5c1b1MJ"
   },
   "outputs": [],
   "source": [
    "from tensorflow.keras.datasets import mnist"
   ]
  },
  {
   "cell_type": "code",
   "execution_count": null,
   "metadata": {
    "colab": {
     "base_uri": "https://localhost:8080/"
    },
    "id": "Zqw3DmJqb_cc",
    "outputId": "ab801687-77a9-44ab-d1e1-79b556b0d1d8"
   },
   "outputs": [],
   "source": [
    "(x_train, y_train), (x_test, y_test) = mnist.load_data()"
   ]
  },
  {
   "cell_type": "code",
   "execution_count": null,
   "metadata": {
    "colab": {
     "base_uri": "https://localhost:8080/"
    },
    "id": "eLIr5dv2cpXo",
    "outputId": "560761c2-ff41-4271-bf25-c8291eb670f0"
   },
   "outputs": [],
   "source": [
    "x_train.shape"
   ]
  },
  {
   "cell_type": "code",
   "execution_count": null,
   "metadata": {
    "colab": {
     "base_uri": "https://localhost:8080/"
    },
    "id": "dWDJhSjjcrHX",
    "outputId": "e091eafe-af58-4045-d994-a7002d2fcc3e"
   },
   "outputs": [],
   "source": [
    "x_train[0]"
   ]
  },
  {
   "cell_type": "code",
   "execution_count": null,
   "metadata": {
    "id": "DU33KtKBc3H6"
   },
   "outputs": [],
   "source": [
    "import matplotlib.pyplot as plt\n",
    "import pandas as pd\n",
    "import numpy as np"
   ]
  },
  {
   "cell_type": "code",
   "execution_count": null,
   "metadata": {
    "colab": {
     "base_uri": "https://localhost:8080/",
     "height": 282
    },
    "id": "eYflnTcIcxoc",
    "outputId": "2c761b02-7eb9-4d24-9498-6fce3867a502"
   },
   "outputs": [],
   "source": [
    "plt.imshow(x_train[1], cmap = 'Blues')"
   ]
  },
  {
   "cell_type": "code",
   "execution_count": null,
   "metadata": {
    "colab": {
     "base_uri": "https://localhost:8080/"
    },
    "id": "cenVo5lsewoW",
    "outputId": "5f318952-0954-43cc-bc08-b464275d31cb"
   },
   "outputs": [],
   "source": [
    "y_train.shape"
   ]
  },
  {
   "cell_type": "code",
   "execution_count": null,
   "metadata": {
    "id": "U4EtRnV9c13E"
   },
   "outputs": [],
   "source": [
    "class_names = [0,1,2,3,4,5,6,7,8,9]"
   ]
  },
  {
   "cell_type": "code",
   "execution_count": null,
   "metadata": {
    "colab": {
     "base_uri": "https://localhost:8080/"
    },
    "id": "L0rhppjYf3Us",
    "outputId": "2fb6a77e-b0b4-4b28-de2a-b5b61fa23999"
   },
   "outputs": [],
   "source": [
    "x_train.min(), x_train.max()"
   ]
  },
  {
   "cell_type": "code",
   "execution_count": null,
   "metadata": {
    "id": "96tDeO8vgRu-"
   },
   "outputs": [],
   "source": [
    "x_train = x_train/255.0\n",
    "x_test = x_test/255.0"
   ]
  },
  {
   "cell_type": "code",
   "execution_count": null,
   "metadata": {
    "colab": {
     "base_uri": "https://localhost:8080/"
    },
    "id": "gLafYFvhdzGo",
    "outputId": "93d58b13-a976-479d-ca74-d24882d6ec47"
   },
   "outputs": [],
   "source": [
    "tf.random.set_seed(42)\n",
    "\n",
    "model = tf.keras.Sequential([\n",
    "    tf.keras.layers.Flatten(input_shape = (28,28)),\n",
    "    tf.keras.layers.Dense(100, activation = 'relu'),\n",
    "    tf.keras.layers.Dense(100, activation = 'relu'),\n",
    "    tf.keras.layers.Dense(100, activation = 'relu'),\n",
    "    tf.keras.layers.Dense(100, activation = 'relu'),\n",
    "    tf.keras.layers.Dense(100, activation = 'relu'),\n",
    "    tf.keras.layers.Dense(100, activation = 'relu'),\n",
    "    tf.keras.layers.Dense(100, activation = 'relu'),\n",
    "    tf.keras.layers.Dense(100, activation = 'relu'),\n",
    "    tf.keras.layers.Dense(10, activation = 'softmax')\n",
    "])\n",
    "\n",
    "model.compile(loss = tf.keras.losses.SparseCategoricalCrossentropy(),\n",
    "              optimizer = tf.keras.optimizers.Adam(learning_rate = 0.0001),\n",
    "              metrics = ['accuracy'])\n",
    "\n",
    "lr_scheduler = tf.keras.callbacks.LearningRateScheduler(lambda epoch: 1e-4 * 10**(epoch/20))\n",
    "\n",
    "history = model.fit(x_train, y_train, epochs = 10,\n",
    "          validation_data = (x_test,y_test),\n",
    "          callbacks = [lr_scheduler])"
   ]
  },
  {
   "cell_type": "code",
   "execution_count": null,
   "metadata": {
    "colab": {
     "base_uri": "https://localhost:8080/"
    },
    "id": "vZCGkgEWed3F",
    "outputId": "84872928-343c-4a77-b3a0-80cf17dd977c"
   },
   "outputs": [],
   "source": [
    "model.evaluate(x_test, y_test)"
   ]
  },
  {
   "cell_type": "code",
   "execution_count": null,
   "metadata": {
    "colab": {
     "base_uri": "https://localhost:8080/",
     "height": 282
    },
    "id": "0VjGcu8Yg1ry",
    "outputId": "902f6b17-f7b5-4be8-b457-e3e5fb51e7b2"
   },
   "outputs": [],
   "source": [
    "pd.DataFrame(history.history).plot()"
   ]
  },
  {
   "cell_type": "code",
   "execution_count": null,
   "metadata": {
    "colab": {
     "base_uri": "https://localhost:8080/",
     "height": 642
    },
    "id": "bRaJRHdyg9KR",
    "outputId": "fc853b26-bdff-4621-d4cc-69813f4e1ccf"
   },
   "outputs": [],
   "source": [
    "plt.figure(figsize = (10,10))\n",
    "lrs = 1e-4*(10**(np.arange(10)/20))\n",
    "plt.semilogx(lrs, history.history['loss'])\n",
    "plt.xlabel('Learning rate')\n",
    "plt.ylabel(\"Loss\")\n",
    "plt.title(\"Finding the ideal learning rate\")"
   ]
  },
  {
   "cell_type": "code",
   "execution_count": null,
   "metadata": {
    "colab": {
     "base_uri": "https://localhost:8080/"
    },
    "id": "ZC7dwnooh-ax",
    "outputId": "3650e238-4fae-4681-ff15-11a14132028d"
   },
   "outputs": [],
   "source": [
    "tf.random.set_seed(42)\n",
    "\n",
    "model_2 = tf.keras.Sequential([\n",
    "    tf.keras.layers.Flatten(input_shape = (28,28)),\n",
    "    tf.keras.layers.Dense(100, activation = 'relu'),\n",
    "    tf.keras.layers.Dense(100, activation = 'relu'),\n",
    "    tf.keras.layers.Dense(100, activation = 'relu'),\n",
    "    tf.keras.layers.Dense(100, activation = 'relu'),\n",
    "    tf.keras.layers.Dense(100, activation = 'relu'),\n",
    "    tf.keras.layers.Dense(100, activation = 'relu'),\n",
    "    tf.keras.layers.Dense(100, activation = 'relu'),\n",
    "    tf.keras.layers.Dense(100, activation = 'relu'),\n",
    "    tf.keras.layers.Dense(10, activation = 'softmax')\n",
    "])\n",
    "\n",
    "model_2.compile(loss = tf.keras.losses.SparseCategoricalCrossentropy(),\n",
    "              optimizer = tf.keras.optimizers.Adam(learning_rate = 0.00005),\n",
    "              metrics = ['accuracy'])\n",
    "\n",
    "history_2 = model_2.fit(x_train, y_train, epochs = 10,\n",
    "          validation_data = (x_test,y_test))"
   ]
  },
  {
   "cell_type": "code",
   "execution_count": null,
   "metadata": {
    "colab": {
     "base_uri": "https://localhost:8080/"
    },
    "id": "t0HHHbC0kE2r",
    "outputId": "06f084c9-5fba-4726-96e1-8ce1aa81734b"
   },
   "outputs": [],
   "source": [
    "model_2.evaluate(x_test,y_test)"
   ]
  },
  {
   "cell_type": "code",
   "execution_count": null,
   "metadata": {
    "colab": {
     "base_uri": "https://localhost:8080/"
    },
    "id": "MCRxmPAKkTOT",
    "outputId": "53c1ecdc-5a07-41a3-8d81-b5588628f135"
   },
   "outputs": [],
   "source": [
    "y_prob = model_2.predict(x_test)\n",
    "y_prob"
   ]
  },
  {
   "cell_type": "code",
   "execution_count": null,
   "metadata": {
    "colab": {
     "base_uri": "https://localhost:8080/"
    },
    "id": "PH1Re3bblEvu",
    "outputId": "713bb86c-1786-4113-fc42-d30e02a59ff2"
   },
   "outputs": [],
   "source": [
    "y_prob[0].argmax()"
   ]
  },
  {
   "cell_type": "code",
   "execution_count": null,
   "metadata": {
    "colab": {
     "base_uri": "https://localhost:8080/"
    },
    "id": "ReLsSk9WlSTU",
    "outputId": "bf8fa625-422a-4585-93f5-df24a05d3750"
   },
   "outputs": [],
   "source": [
    "y_pred = y_prob.argmax(axis=1)\n",
    "y_pred"
   ]
  },
  {
   "cell_type": "code",
   "execution_count": null,
   "metadata": {
    "colab": {
     "base_uri": "https://localhost:8080/"
    },
    "id": "ixuqeqq6nwM8",
    "outputId": "a19780d2-c0e9-4070-e8a3-15ce6b1e4655"
   },
   "outputs": [],
   "source": [
    "y_pred[1]"
   ]
  },
  {
   "cell_type": "code",
   "execution_count": null,
   "metadata": {
    "colab": {
     "base_uri": "https://localhost:8080/",
     "height": 282
    },
    "id": "302wZKQJlhsg",
    "outputId": "9ba5bc04-c8cd-4851-c0e0-91789cc36621"
   },
   "outputs": [],
   "source": [
    "plt.imshow(x_test[1], cmap = 'Blues')"
   ]
  },
  {
   "cell_type": "code",
   "execution_count": null,
   "metadata": {
    "id": "Cx43rKxuJtDs"
   },
   "outputs": [],
   "source": [
    "def probability(x):\n",
    "  return np.round(y_prob[x].max()*100,2)\n",
    "\n",
    "def actual(x):\n",
    "  return class_names[y_test[x]]\n",
    "\n",
    "def prediction(x):\n",
    "  return class_names[y_pred[x]]"
   ]
  },
  {
   "cell_type": "code",
   "execution_count": null,
   "metadata": {
    "colab": {
     "base_uri": "https://localhost:8080/",
     "height": 1000
    },
    "id": "gmiOTI9AlqRM",
    "outputId": "09a98571-a26d-45a5-fd87-99937c20be87"
   },
   "outputs": [],
   "source": [
    "plt.figure(figsize = (18,18))\n",
    "\n",
    "for i in range (25):\n",
    "  plt.subplot(5,5,i+1)\n",
    "  rand_num = np.random.randint(0,len(x_test)-1)\n",
    "  plt.imshow(x_test[rand_num], cmap = 'Blues')\n",
    "  plt.title(f'Actual: {actual(rand_num)}, Pred: {prediction(rand_num)} with {probability(rand_num)}%',y = 0, color = 'green' if actual(rand_num) == prediction(rand_num) else 'red')\n",
    "  plt.axis(False)"
   ]
  },
  {
   "cell_type": "code",
   "execution_count": null,
   "metadata": {
    "id": "3ldeDdJVnfvw"
   },
   "outputs": [],
   "source": [
    "from sklearn.metrics import confusion_matrix, ConfusionMatrixDisplay"
   ]
  },
  {
   "cell_type": "code",
   "execution_count": null,
   "metadata": {
    "colab": {
     "base_uri": "https://localhost:8080/"
    },
    "id": "lo62Mnl2pGf8",
    "outputId": "2f9b153e-97b3-4adc-9e0f-5e52eb399dff"
   },
   "outputs": [],
   "source": [
    "cm = confusion_matrix(y_true = y_test,\n",
    "                      y_pred = y_pred)\n",
    "cm"
   ]
  },
  {
   "cell_type": "code",
   "execution_count": null,
   "metadata": {
    "colab": {
     "base_uri": "https://localhost:8080/",
     "height": 561
    },
    "id": "qWNjwHplpM5W",
    "outputId": "c0b35b11-8388-40a5-df62-e817ac6584b6"
   },
   "outputs": [],
   "source": [
    "plt.figure(figsize = (10,10))\n",
    "fig, ax = plt.subplots(figsize=(9,9))\n",
    "ConfusionMatrixDisplay(cm).plot(cmap = 'Blues',ax=ax)"
   ]
  },
  {
   "cell_type": "code",
   "execution_count": null,
   "metadata": {
    "colab": {
     "base_uri": "https://localhost:8080/"
    },
    "id": "7fjKGOv-pUcM",
    "outputId": "62a4b6d9-7676-4208-a74b-86cdbbd7eb2e"
   },
   "outputs": [],
   "source": [
    "model_2.layers"
   ]
  },
  {
   "cell_type": "code",
   "execution_count": null,
   "metadata": {
    "colab": {
     "base_uri": "https://localhost:8080/"
    },
    "id": "n8bTUl5OVbpN",
    "outputId": "8636b17b-3c91-41c7-a756-690471b48f01"
   },
   "outputs": [],
   "source": [
    "# Check the weights of the first hidden layer\n",
    "\n",
    "weights, biases = model_2.layers[1].get_weights()\n",
    "weights"
   ]
  }
 ],
 "metadata": {
  "colab": {
   "provenance": []
  },
  "kernelspec": {
   "display_name": "Python 3.9.13 ('base')",
   "language": "python",
   "name": "python3"
  },
  "language_info": {
   "codemirror_mode": {
    "name": "ipython",
    "version": 3
   },
   "file_extension": ".py",
   "mimetype": "text/x-python",
   "name": "python",
   "nbconvert_exporter": "python",
   "pygments_lexer": "ipython3",
   "version": "3.9.13"
  },
  "varInspector": {
   "cols": {
    "lenName": 16,
    "lenType": 16,
    "lenVar": 40
   },
   "kernels_config": {
    "python": {
     "delete_cmd_postfix": "",
     "delete_cmd_prefix": "del ",
     "library": "var_list.py",
     "varRefreshCmd": "print(var_dic_list())"
    },
    "r": {
     "delete_cmd_postfix": ") ",
     "delete_cmd_prefix": "rm(",
     "library": "var_list.r",
     "varRefreshCmd": "cat(var_dic_list()) "
    }
   },
   "types_to_exclude": [
    "module",
    "function",
    "builtin_function_or_method",
    "instance",
    "_Feature"
   ],
   "window_display": false
  },
  "vscode": {
   "interpreter": {
    "hash": "53e68a57d2a06c69e5f7f32a159b5115500280d9f6f3f753ad5948db6e179d6d"
   }
  }
 },
 "nbformat": 4,
 "nbformat_minor": 1
}
