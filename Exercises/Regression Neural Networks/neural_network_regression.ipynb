{
 "cells": [
  {
   "cell_type": "code",
   "execution_count": null,
   "metadata": {},
   "outputs": [],
   "source": [
    "import tensorflow as tf\n",
    "import numpy as np\n",
    "import pandas as pd\n",
    "import matplotlib.pyplot as plt\n",
    "%matplotlib inline"
   ]
  },
  {
   "cell_type": "code",
   "execution_count": null,
   "metadata": {},
   "outputs": [],
   "source": [
    "df = pd.read_csv('USA_Housing.csv')\n",
    "df"
   ]
  },
  {
   "cell_type": "code",
   "execution_count": null,
   "metadata": {},
   "outputs": [],
   "source": [
    "X = df.drop(['Address','Price'], axis=1)\n",
    "y = df['Price']"
   ]
  },
  {
   "cell_type": "code",
   "execution_count": null,
   "metadata": {},
   "outputs": [],
   "source": [
    "from sklearn.model_selection import train_test_split\n",
    "from sklearn.preprocessing import MinMaxScaler\n",
    "from sklearn.compose import make_column_transformer"
   ]
  },
  {
   "cell_type": "code",
   "execution_count": null,
   "metadata": {},
   "outputs": [],
   "source": [
    "X_train, X_test, y_train, y_test = train_test_split(X, y, test_size=0.33, random_state=42)"
   ]
  },
  {
   "cell_type": "code",
   "execution_count": null,
   "metadata": {},
   "outputs": [],
   "source": [
    "ct = make_column_transformer(\n",
    "    (MinMaxScaler(), ['Avg. Area Income', 'Avg. Area House Age', 'Avg. Area Number of Rooms','Avg. Area Number of Bedrooms','Area Population'])\n",
    ")\n",
    "ct.fit(X_train)\n",
    "X_train_normal = ct.transform(X_train)\n",
    "X_test_normal = ct.transform(X_test)"
   ]
  },
  {
   "cell_type": "code",
   "execution_count": null,
   "metadata": {},
   "outputs": [],
   "source": [
    "X_train_normal"
   ]
  },
  {
   "cell_type": "code",
   "execution_count": null,
   "metadata": {},
   "outputs": [],
   "source": [
    "X_test_normal"
   ]
  },
  {
   "cell_type": "code",
   "execution_count": null,
   "metadata": {},
   "outputs": [],
   "source": [
    "X_train_normal.shape, X_test_normal.shape"
   ]
  },
  {
   "cell_type": "code",
   "execution_count": null,
   "metadata": {},
   "outputs": [],
   "source": [
    "tf.random.set_seed(42)\n",
    "model = tf.keras.Sequential([\n",
    "    tf.keras.layers.Dense(100),\n",
    "    tf.keras.layers.Dense(100),\n",
    "    tf.keras.layers.Dense(100),\n",
    "    tf.keras.layers.Dense(100),\n",
    "    tf.keras.layers.Dense(100),\n",
    "    tf.keras.layers.Dense(1)\n",
    "])\n",
    "\n",
    "model.compile(loss=tf.keras.losses.mae,\n",
    "optimizer=tf.keras.optimizers.Adam(learning_rate=0.0001),\n",
    "metrics=['mae'])"
   ]
  },
  {
   "cell_type": "code",
   "execution_count": null,
   "metadata": {},
   "outputs": [],
   "source": [
    "history = model.fit(X_train,y_train, epochs=150)"
   ]
  },
  {
   "cell_type": "code",
   "execution_count": null,
   "metadata": {},
   "outputs": [],
   "source": [
    "model.evaluate(X_test,y_test)"
   ]
  },
  {
   "cell_type": "code",
   "execution_count": null,
   "metadata": {},
   "outputs": [],
   "source": [
    "y_pred = model.predict(X_test)"
   ]
  },
  {
   "cell_type": "code",
   "execution_count": null,
   "metadata": {},
   "outputs": [],
   "source": [
    "from sklearn.linear_model import LinearRegression"
   ]
  },
  {
   "cell_type": "code",
   "execution_count": null,
   "metadata": {},
   "outputs": [],
   "source": [
    "model2 = LinearRegression()\n",
    "model2.fit(X_train, y_train)\n",
    "model2.predict(X_test)"
   ]
  },
  {
   "cell_type": "code",
   "execution_count": null,
   "metadata": {},
   "outputs": [],
   "source": [
    "y_pred.squeeze()"
   ]
  },
  {
   "cell_type": "code",
   "execution_count": null,
   "metadata": {},
   "outputs": [],
   "source": [
    "model2.predict(X_test) - y_pred.squeeze()"
   ]
  },
  {
   "cell_type": "code",
   "execution_count": null,
   "metadata": {},
   "outputs": [],
   "source": [
    "pd.DataFrame(history.history).plot()\n",
    "plt.ylabel(\"loss\")\n",
    "plt.xlabel(\"epochs\")"
   ]
  },
  {
   "cell_type": "code",
   "execution_count": null,
   "metadata": {},
   "outputs": [],
   "source": [
    "from sklearn import metrics"
   ]
  },
  {
   "cell_type": "code",
   "execution_count": null,
   "metadata": {},
   "outputs": [],
   "source": [
    "metrics.mean_absolute_error(y_test,y_pred)"
   ]
  },
  {
   "cell_type": "code",
   "execution_count": null,
   "metadata": {},
   "outputs": [],
   "source": [
    "metrics.mean_absolute_error(y_test,model2.predict(X_test))"
   ]
  },
  {
   "cell_type": "markdown",
   "metadata": {},
   "source": [
    "# Exercise 2"
   ]
  },
  {
   "cell_type": "code",
   "execution_count": 137,
   "metadata": {},
   "outputs": [
    {
     "data": {
      "text/plain": [
       "((200, 10), (200,))"
      ]
     },
     "execution_count": 137,
     "metadata": {},
     "output_type": "execute_result"
    }
   ],
   "source": [
    "import tensorflow as tf\n",
    "import numpy as np \n",
    "import matplotlib.pyplot as plt\n",
    "from sklearn.datasets import make_regression \n",
    "\n",
    "X , y  = make_regression(n_samples = 200 , \n",
    "                               n_features = 10, \n",
    "                               n_targets = 1)\n",
    "\n",
    "X.shape , y.shape"
   ]
  },
  {
   "cell_type": "code",
   "execution_count": 138,
   "metadata": {},
   "outputs": [
    {
     "data": {
      "text/html": [
       "<div>\n",
       "<style scoped>\n",
       "    .dataframe tbody tr th:only-of-type {\n",
       "        vertical-align: middle;\n",
       "    }\n",
       "\n",
       "    .dataframe tbody tr th {\n",
       "        vertical-align: top;\n",
       "    }\n",
       "\n",
       "    .dataframe thead th {\n",
       "        text-align: right;\n",
       "    }\n",
       "</style>\n",
       "<table border=\"1\" class=\"dataframe\">\n",
       "  <thead>\n",
       "    <tr style=\"text-align: right;\">\n",
       "      <th></th>\n",
       "      <th>0</th>\n",
       "      <th>1</th>\n",
       "      <th>2</th>\n",
       "      <th>3</th>\n",
       "      <th>4</th>\n",
       "      <th>5</th>\n",
       "      <th>6</th>\n",
       "      <th>7</th>\n",
       "      <th>8</th>\n",
       "      <th>9</th>\n",
       "    </tr>\n",
       "  </thead>\n",
       "  <tbody>\n",
       "    <tr>\n",
       "      <th>0</th>\n",
       "      <td>1.507355</td>\n",
       "      <td>1.673911</td>\n",
       "      <td>-0.411283</td>\n",
       "      <td>1.429873</td>\n",
       "      <td>1.036930</td>\n",
       "      <td>-0.630836</td>\n",
       "      <td>0.957340</td>\n",
       "      <td>-0.329925</td>\n",
       "      <td>-0.369535</td>\n",
       "      <td>0.823559</td>\n",
       "    </tr>\n",
       "    <tr>\n",
       "      <th>1</th>\n",
       "      <td>1.558255</td>\n",
       "      <td>0.252199</td>\n",
       "      <td>1.078014</td>\n",
       "      <td>-1.047371</td>\n",
       "      <td>-0.869152</td>\n",
       "      <td>1.235432</td>\n",
       "      <td>-0.672079</td>\n",
       "      <td>0.700275</td>\n",
       "      <td>0.316266</td>\n",
       "      <td>0.245620</td>\n",
       "    </tr>\n",
       "    <tr>\n",
       "      <th>2</th>\n",
       "      <td>-1.643853</td>\n",
       "      <td>-2.238095</td>\n",
       "      <td>0.419868</td>\n",
       "      <td>-0.210447</td>\n",
       "      <td>0.416968</td>\n",
       "      <td>-0.136255</td>\n",
       "      <td>-1.676538</td>\n",
       "      <td>-0.786722</td>\n",
       "      <td>-0.679511</td>\n",
       "      <td>-0.522907</td>\n",
       "    </tr>\n",
       "    <tr>\n",
       "      <th>3</th>\n",
       "      <td>-0.608764</td>\n",
       "      <td>1.431747</td>\n",
       "      <td>0.746500</td>\n",
       "      <td>0.533127</td>\n",
       "      <td>2.221164</td>\n",
       "      <td>0.590407</td>\n",
       "      <td>-0.542897</td>\n",
       "      <td>-0.116295</td>\n",
       "      <td>-0.055885</td>\n",
       "      <td>-0.181781</td>\n",
       "    </tr>\n",
       "    <tr>\n",
       "      <th>4</th>\n",
       "      <td>1.499734</td>\n",
       "      <td>-1.385137</td>\n",
       "      <td>-0.471815</td>\n",
       "      <td>-1.543883</td>\n",
       "      <td>1.726364</td>\n",
       "      <td>-1.619989</td>\n",
       "      <td>1.029307</td>\n",
       "      <td>1.673481</td>\n",
       "      <td>-0.102174</td>\n",
       "      <td>0.490896</td>\n",
       "    </tr>\n",
       "    <tr>\n",
       "      <th>...</th>\n",
       "      <td>...</td>\n",
       "      <td>...</td>\n",
       "      <td>...</td>\n",
       "      <td>...</td>\n",
       "      <td>...</td>\n",
       "      <td>...</td>\n",
       "      <td>...</td>\n",
       "      <td>...</td>\n",
       "      <td>...</td>\n",
       "      <td>...</td>\n",
       "    </tr>\n",
       "    <tr>\n",
       "      <th>195</th>\n",
       "      <td>1.548049</td>\n",
       "      <td>0.479160</td>\n",
       "      <td>2.108288</td>\n",
       "      <td>-0.792224</td>\n",
       "      <td>2.003639</td>\n",
       "      <td>-1.600278</td>\n",
       "      <td>0.469740</td>\n",
       "      <td>-1.179333</td>\n",
       "      <td>0.996988</td>\n",
       "      <td>0.019182</td>\n",
       "    </tr>\n",
       "    <tr>\n",
       "      <th>196</th>\n",
       "      <td>-0.607102</td>\n",
       "      <td>-0.931685</td>\n",
       "      <td>-1.219047</td>\n",
       "      <td>-1.033051</td>\n",
       "      <td>-1.502285</td>\n",
       "      <td>-0.745434</td>\n",
       "      <td>0.022043</td>\n",
       "      <td>-0.268161</td>\n",
       "      <td>-0.635283</td>\n",
       "      <td>0.435465</td>\n",
       "    </tr>\n",
       "    <tr>\n",
       "      <th>197</th>\n",
       "      <td>0.977061</td>\n",
       "      <td>0.493807</td>\n",
       "      <td>-0.181236</td>\n",
       "      <td>-1.297154</td>\n",
       "      <td>0.611307</td>\n",
       "      <td>0.341483</td>\n",
       "      <td>0.658581</td>\n",
       "      <td>0.995409</td>\n",
       "      <td>-1.023836</td>\n",
       "      <td>-0.333078</td>\n",
       "    </tr>\n",
       "    <tr>\n",
       "      <th>198</th>\n",
       "      <td>1.086445</td>\n",
       "      <td>0.059697</td>\n",
       "      <td>0.434953</td>\n",
       "      <td>0.033485</td>\n",
       "      <td>0.323748</td>\n",
       "      <td>0.796150</td>\n",
       "      <td>0.121553</td>\n",
       "      <td>-0.447598</td>\n",
       "      <td>-0.173122</td>\n",
       "      <td>-0.574568</td>\n",
       "    </tr>\n",
       "    <tr>\n",
       "      <th>199</th>\n",
       "      <td>0.748851</td>\n",
       "      <td>0.515385</td>\n",
       "      <td>-0.285591</td>\n",
       "      <td>-0.581836</td>\n",
       "      <td>-0.313364</td>\n",
       "      <td>1.212869</td>\n",
       "      <td>-0.945167</td>\n",
       "      <td>-0.237447</td>\n",
       "      <td>-0.510224</td>\n",
       "      <td>1.141992</td>\n",
       "    </tr>\n",
       "  </tbody>\n",
       "</table>\n",
       "<p>200 rows × 10 columns</p>\n",
       "</div>"
      ],
      "text/plain": [
       "            0         1         2         3         4         5         6  \\\n",
       "0    1.507355  1.673911 -0.411283  1.429873  1.036930 -0.630836  0.957340   \n",
       "1    1.558255  0.252199  1.078014 -1.047371 -0.869152  1.235432 -0.672079   \n",
       "2   -1.643853 -2.238095  0.419868 -0.210447  0.416968 -0.136255 -1.676538   \n",
       "3   -0.608764  1.431747  0.746500  0.533127  2.221164  0.590407 -0.542897   \n",
       "4    1.499734 -1.385137 -0.471815 -1.543883  1.726364 -1.619989  1.029307   \n",
       "..        ...       ...       ...       ...       ...       ...       ...   \n",
       "195  1.548049  0.479160  2.108288 -0.792224  2.003639 -1.600278  0.469740   \n",
       "196 -0.607102 -0.931685 -1.219047 -1.033051 -1.502285 -0.745434  0.022043   \n",
       "197  0.977061  0.493807 -0.181236 -1.297154  0.611307  0.341483  0.658581   \n",
       "198  1.086445  0.059697  0.434953  0.033485  0.323748  0.796150  0.121553   \n",
       "199  0.748851  0.515385 -0.285591 -0.581836 -0.313364  1.212869 -0.945167   \n",
       "\n",
       "            7         8         9  \n",
       "0   -0.329925 -0.369535  0.823559  \n",
       "1    0.700275  0.316266  0.245620  \n",
       "2   -0.786722 -0.679511 -0.522907  \n",
       "3   -0.116295 -0.055885 -0.181781  \n",
       "4    1.673481 -0.102174  0.490896  \n",
       "..        ...       ...       ...  \n",
       "195 -1.179333  0.996988  0.019182  \n",
       "196 -0.268161 -0.635283  0.435465  \n",
       "197  0.995409 -1.023836 -0.333078  \n",
       "198 -0.447598 -0.173122 -0.574568  \n",
       "199 -0.237447 -0.510224  1.141992  \n",
       "\n",
       "[200 rows x 10 columns]"
      ]
     },
     "execution_count": 138,
     "metadata": {},
     "output_type": "execute_result"
    }
   ],
   "source": [
    "import pandas as pd\n",
    "df = pd.DataFrame(data=X)\n",
    "df"
   ]
  },
  {
   "cell_type": "code",
   "execution_count": 139,
   "metadata": {},
   "outputs": [
    {
     "data": {
      "text/plain": [
       "2"
      ]
     },
     "execution_count": 139,
     "metadata": {},
     "output_type": "execute_result"
    }
   ],
   "source": [
    "X.ndim"
   ]
  },
  {
   "cell_type": "code",
   "execution_count": 140,
   "metadata": {},
   "outputs": [
    {
     "data": {
      "text/plain": [
       "array([ 1.50735526,  1.55825506, -1.64385339, -0.60876394,  1.49973423,\n",
       "       -0.00440079,  1.06403415, -0.63265834,  0.69004928, -0.14020901,\n",
       "        0.05685532,  0.23692135,  0.37597823,  0.17342875,  0.51183123,\n",
       "        2.5040555 ,  0.31730954,  0.53272106,  1.18328563, -0.70081489,\n",
       "       -0.11092256, -1.05041361,  0.64160215,  0.20375355,  1.42783454,\n",
       "        0.60758775, -0.49754935, -0.13895914,  1.34337783, -0.14336183,\n",
       "       -0.38353334, -1.00578636,  0.14051692, -0.62860665, -0.42621205,\n",
       "       -3.03713177, -0.5456447 , -0.46946193, -1.39425324, -1.26410484,\n",
       "       -0.74680972, -0.40906956,  0.69226   , -0.10120675, -1.37440477,\n",
       "        0.16002603, -0.57194733,  0.3234175 , -0.12145412, -0.94928749,\n",
       "        0.33220995,  0.84091451, -1.67547327, -1.16618839, -1.19050929,\n",
       "       -1.10763506,  1.04060242,  0.11763076, -0.51864425, -0.2997245 ,\n",
       "        0.73207284, -0.07264523, -0.77351148,  0.09868462, -0.61678773,\n",
       "        0.56906256,  0.30752925,  1.90206415, -0.90669269, -0.68123977,\n",
       "       -0.87607727,  1.75187504, -0.85281904, -0.18192622,  1.36886099,\n",
       "        1.05582395, -0.03788073, -0.39973105,  0.73357082, -0.79785584,\n",
       "        1.40839192,  0.35130985, -0.64202424,  1.27540291, -0.2595836 ,\n",
       "       -1.47235096, -2.14149826, -1.0061892 , -0.49133587, -0.04859083,\n",
       "        1.22409954,  0.6106759 , -0.69759106, -0.64881574, -1.50067102,\n",
       "       -0.36522684,  1.95927503,  0.87043415, -1.29616789, -0.41265315,\n",
       "       -1.16486573,  0.13497834,  1.67507445, -0.88368644, -0.14056147,\n",
       "        0.21973079, -0.92894166,  0.92380299,  0.47239431,  0.22291528,\n",
       "        0.08987778, -0.70715073,  0.40248351, -0.97441159,  0.7385115 ,\n",
       "        2.26292791, -0.6311091 , -0.09145446, -1.21705658, -0.5146063 ,\n",
       "        2.44055212, -1.10064957,  0.7846935 , -0.57812779,  0.09968959,\n",
       "       -1.34963113, -0.05491058, -1.33592164,  0.19375658, -1.47871787,\n",
       "       -0.21722325,  0.14357251, -1.16059644, -0.65263058, -0.20077843,\n",
       "       -1.60626165,  0.98334329, -1.94271245,  0.90927726, -0.82816614,\n",
       "        0.69548395, -0.39373927,  0.51943418, -0.64865852, -0.90460329,\n",
       "       -0.60740918, -0.94963102,  0.15148866, -0.61645309,  0.2294527 ,\n",
       "        2.02635847,  1.66175114,  0.15205557,  0.36303243,  1.98063661,\n",
       "       -0.23228774,  1.01878164,  0.02874977, -0.06939153, -1.12832527,\n",
       "       -0.06869513, -1.87176025, -0.65602075,  1.02582076, -0.22197721,\n",
       "       -0.47145607,  0.33761989,  0.12763096,  0.09198326, -0.48807076,\n",
       "       -0.56906846,  0.13219069, -1.16005769, -0.99789729, -1.06514331,\n",
       "        0.57326452,  2.95101622, -1.09635294,  0.51945624,  0.11745092,\n",
       "        0.01801244, -1.63235089,  0.24993872, -0.66050138,  0.43353112,\n",
       "        0.92594114, -0.13954408,  0.27794168,  1.477906  , -0.80589331,\n",
       "        0.33140184,  0.88340654,  0.40054532, -0.87860977, -0.03222962,\n",
       "        1.54804904, -0.60710218,  0.97706051,  1.08644492,  0.74885076])"
      ]
     },
     "execution_count": 140,
     "metadata": {},
     "output_type": "execute_result"
    }
   ],
   "source": [
    "X[:, 0]"
   ]
  },
  {
   "cell_type": "code",
   "execution_count": 141,
   "metadata": {},
   "outputs": [
    {
     "data": {
      "text/plain": [
       "<matplotlib.collections.PathCollection at 0x211b71f84f0>"
      ]
     },
     "execution_count": 141,
     "metadata": {},
     "output_type": "execute_result"
    },
    {
     "data": {
      "image/png": "[encoded data removed]",
      "text/plain": [
       "<Figure size 640x480 with 1 Axes>"
      ]
     },
     "metadata": {},
     "output_type": "display_data"
    }
   ],
   "source": [
    "# Let's visualize the dataset for each feature\n",
    "\n",
    "plt.scatter(X[:, 0] , y)\n"
   ]
  },
  {
   "cell_type": "code",
   "execution_count": 142,
   "metadata": {},
   "outputs": [],
   "source": [
    "from sklearn.model_selection import train_test_split\n",
    "from sklearn.linear_model import LinearRegression\n",
    "from sklearn import metrics"
   ]
  },
  {
   "cell_type": "code",
   "execution_count": 143,
   "metadata": {},
   "outputs": [],
   "source": [
    "X_train, X_test, y_train, y_test = train_test_split(X, y, test_size=0.2, random_state=42)"
   ]
  },
  {
   "cell_type": "code",
   "execution_count": 144,
   "metadata": {},
   "outputs": [
    {
     "data": {
      "text/plain": [
       "(160, 10)"
      ]
     },
     "execution_count": 144,
     "metadata": {},
     "output_type": "execute_result"
    }
   ],
   "source": [
    "X_train.shape"
   ]
  },
  {
   "cell_type": "code",
   "execution_count": 145,
   "metadata": {},
   "outputs": [],
   "source": [
    "linear_model = LinearRegression()"
   ]
  },
  {
   "cell_type": "code",
   "execution_count": 146,
   "metadata": {},
   "outputs": [],
   "source": [
    "linear_model.fit(X_train,y_train)\n",
    "ylinear_pred = linear_model.predict(X_test)"
   ]
  },
  {
   "cell_type": "code",
   "execution_count": 147,
   "metadata": {},
   "outputs": [
    {
     "data": {
      "text/plain": [
       "array([-167.33340886,  202.89762152,  135.14907643,  233.99253625,\n",
       "         79.70314311,   -7.87021614,  353.16699556,  -50.80830384,\n",
       "       -138.18739617, -103.45954281,  284.86855762, -191.71786918,\n",
       "        -88.54740585,   53.5241356 ,  -94.01156793,   65.70941339,\n",
       "         79.53700131,  155.31546127,   92.94414793,   31.85959798,\n",
       "        -74.66168219, -293.80085167, -131.2879238 ,    4.26519211,\n",
       "        -51.75161006, -381.52261073, -340.73749772,  517.69361179,\n",
       "       -370.52396496,   -7.92544669, -277.85514904,  -76.05455196,\n",
       "       -266.71762896,  111.10334007,  460.06544559,  120.27087386,\n",
       "        -56.84206147,  111.67225314,  190.36750155,  267.02461337])"
      ]
     },
     "execution_count": 147,
     "metadata": {},
     "output_type": "execute_result"
    }
   ],
   "source": [
    "ylinear_pred"
   ]
  },
  {
   "cell_type": "code",
   "execution_count": 148,
   "metadata": {},
   "outputs": [
    {
     "data": {
      "text/plain": [
       "2.289723965986923e-13"
      ]
     },
     "execution_count": 148,
     "metadata": {},
     "output_type": "execute_result"
    }
   ],
   "source": [
    "metrics.mean_absolute_error(y_true=y_test, y_pred=ylinear_pred)"
   ]
  },
  {
   "cell_type": "code",
   "execution_count": 149,
   "metadata": {},
   "outputs": [
    {
     "name": "stdout",
     "output_type": "stream",
     "text": [
      "Epoch 1/100\n",
      "5/5 [==============================] - 1s 2ms/step - loss: 165.6197 - mae: 165.6197\n",
      "Epoch 2/100\n",
      "5/5 [==============================] - 0s 3ms/step - loss: 165.1121 - mae: 165.1121\n",
      "Epoch 3/100\n",
      "5/5 [==============================] - 0s 3ms/step - loss: 164.5725 - mae: 164.5725\n",
      "Epoch 4/100\n",
      "5/5 [==============================] - 0s 4ms/step - loss: 163.9772 - mae: 163.9772\n",
      "Epoch 5/100\n",
      "5/5 [==============================] - 0s 4ms/step - loss: 163.2963 - mae: 163.2963\n",
      "Epoch 6/100\n",
      "5/5 [==============================] - 0s 5ms/step - loss: 162.4818 - mae: 162.4818\n",
      "Epoch 7/100\n",
      "5/5 [==============================] - 0s 4ms/step - loss: 161.4461 - mae: 161.4461\n",
      "Epoch 8/100\n",
      "5/5 [==============================] - 0s 4ms/step - loss: 160.2358 - mae: 160.2358\n",
      "Epoch 9/100\n",
      "5/5 [==============================] - 0s 6ms/step - loss: 158.7861 - mae: 158.7861\n",
      "Epoch 10/100\n",
      "5/5 [==============================] - 0s 5ms/step - loss: 157.1006 - mae: 157.1006\n",
      "Epoch 11/100\n",
      "5/5 [==============================] - 0s 4ms/step - loss: 154.9560 - mae: 154.9560\n",
      "Epoch 12/100\n",
      "5/5 [==============================] - 0s 4ms/step - loss: 152.4279 - mae: 152.4279\n",
      "Epoch 13/100\n",
      "5/5 [==============================] - 0s 3ms/step - loss: 149.5164 - mae: 149.5164\n",
      "Epoch 14/100\n",
      "5/5 [==============================] - 0s 5ms/step - loss: 145.9850 - mae: 145.9850\n",
      "Epoch 15/100\n",
      "5/5 [==============================] - 0s 7ms/step - loss: 142.0739 - mae: 142.0739\n",
      "Epoch 16/100\n",
      "5/5 [==============================] - 0s 4ms/step - loss: 137.1705 - mae: 137.1705\n",
      "Epoch 17/100\n",
      "5/5 [==============================] - 0s 5ms/step - loss: 131.9971 - mae: 131.9971\n",
      "Epoch 18/100\n",
      "5/5 [==============================] - 0s 4ms/step - loss: 125.7683 - mae: 125.7683\n",
      "Epoch 19/100\n",
      "5/5 [==============================] - 0s 3ms/step - loss: 118.5893 - mae: 118.5893\n",
      "Epoch 20/100\n",
      "5/5 [==============================] - 0s 3ms/step - loss: 110.8349 - mae: 110.8349\n",
      "Epoch 21/100\n",
      "5/5 [==============================] - 0s 3ms/step - loss: 102.1766 - mae: 102.1766\n",
      "Epoch 22/100\n",
      "5/5 [==============================] - 0s 2ms/step - loss: 92.2972 - mae: 92.2972\n",
      "Epoch 23/100\n",
      "5/5 [==============================] - 0s 2ms/step - loss: 81.8512 - mae: 81.8512\n",
      "Epoch 24/100\n",
      "5/5 [==============================] - 0s 5ms/step - loss: 71.3007 - mae: 71.3007\n",
      "Epoch 25/100\n",
      "5/5 [==============================] - 0s 5ms/step - loss: 60.1862 - mae: 60.1862\n",
      "Epoch 26/100\n",
      "5/5 [==============================] - 0s 3ms/step - loss: 48.8084 - mae: 48.8084\n",
      "Epoch 27/100\n",
      "5/5 [==============================] - 0s 3ms/step - loss: 37.2396 - mae: 37.2396\n",
      "Epoch 28/100\n",
      "5/5 [==============================] - 0s 4ms/step - loss: 28.4606 - mae: 28.4606\n",
      "Epoch 29/100\n",
      "5/5 [==============================] - 0s 3ms/step - loss: 22.8235 - mae: 22.8235\n",
      "Epoch 30/100\n",
      "5/5 [==============================] - 0s 3ms/step - loss: 18.0284 - mae: 18.0284\n",
      "Epoch 31/100\n",
      "5/5 [==============================] - 0s 3ms/step - loss: 12.8579 - mae: 12.8579\n",
      "Epoch 32/100\n",
      "5/5 [==============================] - 0s 2ms/step - loss: 6.8212 - mae: 6.8212\n",
      "Epoch 33/100\n",
      "5/5 [==============================] - 0s 3ms/step - loss: 2.8936 - mae: 2.8936\n",
      "Epoch 34/100\n",
      "5/5 [==============================] - 0s 2ms/step - loss: 2.4506 - mae: 2.4506\n",
      "Epoch 35/100\n",
      "5/5 [==============================] - 0s 2ms/step - loss: 2.6149 - mae: 2.6149\n",
      "Epoch 36/100\n",
      "5/5 [==============================] - 0s 2ms/step - loss: 1.5686 - mae: 1.5686\n",
      "Epoch 37/100\n",
      "5/5 [==============================] - 0s 1ms/step - loss: 1.0436 - mae: 1.0436\n",
      "Epoch 38/100\n",
      "5/5 [==============================] - 0s 2ms/step - loss: 1.0097 - mae: 1.0097\n",
      "Epoch 39/100\n",
      "5/5 [==============================] - 0s 2ms/step - loss: 0.6393 - mae: 0.6393\n",
      "Epoch 40/100\n",
      "5/5 [==============================] - 0s 2ms/step - loss: 0.6066 - mae: 0.6066\n",
      "Epoch 41/100\n",
      "5/5 [==============================] - 0s 2ms/step - loss: 0.5915 - mae: 0.5915\n",
      "Epoch 42/100\n",
      "5/5 [==============================] - 0s 2ms/step - loss: 0.5527 - mae: 0.5527\n",
      "Epoch 43/100\n",
      "5/5 [==============================] - 0s 2ms/step - loss: 0.5428 - mae: 0.5428\n",
      "Epoch 44/100\n",
      "5/5 [==============================] - 0s 2ms/step - loss: 0.4331 - mae: 0.4331\n",
      "Epoch 45/100\n",
      "5/5 [==============================] - 0s 2ms/step - loss: 0.4675 - mae: 0.4675\n",
      "Epoch 46/100\n",
      "5/5 [==============================] - 0s 2ms/step - loss: 0.3885 - mae: 0.3885\n",
      "Epoch 47/100\n",
      "5/5 [==============================] - 0s 2ms/step - loss: 0.3443 - mae: 0.3443\n",
      "Epoch 48/100\n",
      "5/5 [==============================] - 0s 2ms/step - loss: 0.3286 - mae: 0.3286\n",
      "Epoch 49/100\n",
      "5/5 [==============================] - 0s 2ms/step - loss: 0.3596 - mae: 0.3596\n",
      "Epoch 50/100\n",
      "5/5 [==============================] - 0s 2ms/step - loss: 0.3168 - mae: 0.3168\n",
      "Epoch 51/100\n",
      "5/5 [==============================] - 0s 2ms/step - loss: 0.2792 - mae: 0.2792\n",
      "Epoch 52/100\n",
      "5/5 [==============================] - 0s 2ms/step - loss: 0.3500 - mae: 0.3500\n",
      "Epoch 53/100\n",
      "5/5 [==============================] - 0s 2ms/step - loss: 0.3607 - mae: 0.3607\n",
      "Epoch 54/100\n",
      "5/5 [==============================] - 0s 2ms/step - loss: 0.3812 - mae: 0.3812\n",
      "Epoch 55/100\n",
      "5/5 [==============================] - 0s 2ms/step - loss: 0.3573 - mae: 0.3573\n",
      "Epoch 56/100\n",
      "5/5 [==============================] - 0s 2ms/step - loss: 0.3145 - mae: 0.3145\n",
      "Epoch 57/100\n",
      "5/5 [==============================] - 0s 2ms/step - loss: 0.3511 - mae: 0.3511\n",
      "Epoch 58/100\n",
      "5/5 [==============================] - 0s 2ms/step - loss: 0.3234 - mae: 0.3234\n",
      "Epoch 59/100\n",
      "5/5 [==============================] - 0s 2ms/step - loss: 0.2764 - mae: 0.2764\n",
      "Epoch 60/100\n",
      "5/5 [==============================] - 0s 2ms/step - loss: 0.4228 - mae: 0.4228\n",
      "Epoch 61/100\n",
      "5/5 [==============================] - 0s 2ms/step - loss: 0.3745 - mae: 0.3745\n",
      "Epoch 62/100\n",
      "5/5 [==============================] - 0s 2ms/step - loss: 0.2891 - mae: 0.2891\n",
      "Epoch 63/100\n",
      "5/5 [==============================] - 0s 2ms/step - loss: 0.3335 - mae: 0.3335\n",
      "Epoch 64/100\n",
      "5/5 [==============================] - 0s 1ms/step - loss: 0.3315 - mae: 0.3315\n",
      "Epoch 65/100\n",
      "5/5 [==============================] - 0s 2ms/step - loss: 0.3818 - mae: 0.3818\n",
      "Epoch 66/100\n",
      "5/5 [==============================] - 0s 2ms/step - loss: 0.5071 - mae: 0.5071\n",
      "Epoch 67/100\n",
      "5/5 [==============================] - 0s 2ms/step - loss: 0.3167 - mae: 0.3167\n",
      "Epoch 68/100\n",
      "5/5 [==============================] - 0s 2ms/step - loss: 0.2904 - mae: 0.2904\n",
      "Epoch 69/100\n",
      "5/5 [==============================] - 0s 2ms/step - loss: 0.2943 - mae: 0.2943\n",
      "Epoch 70/100\n",
      "5/5 [==============================] - 0s 2ms/step - loss: 0.3480 - mae: 0.3480\n",
      "Epoch 71/100\n",
      "5/5 [==============================] - 0s 2ms/step - loss: 0.3442 - mae: 0.3442\n",
      "Epoch 72/100\n",
      "5/5 [==============================] - 0s 2ms/step - loss: 0.4052 - mae: 0.4052\n",
      "Epoch 73/100\n",
      "5/5 [==============================] - 0s 2ms/step - loss: 0.3858 - mae: 0.3858\n",
      "Epoch 74/100\n",
      "5/5 [==============================] - 0s 2ms/step - loss: 0.4098 - mae: 0.4098\n",
      "Epoch 75/100\n",
      "5/5 [==============================] - 0s 2ms/step - loss: 0.2990 - mae: 0.2990\n",
      "Epoch 76/100\n",
      "5/5 [==============================] - 0s 2ms/step - loss: 0.2993 - mae: 0.2993\n",
      "Epoch 77/100\n",
      "5/5 [==============================] - 0s 2ms/step - loss: 0.3622 - mae: 0.3622\n",
      "Epoch 78/100\n",
      "5/5 [==============================] - 0s 2ms/step - loss: 0.3556 - mae: 0.3556\n",
      "Epoch 79/100\n",
      "5/5 [==============================] - 0s 2ms/step - loss: 0.2827 - mae: 0.2827\n",
      "Epoch 80/100\n",
      "5/5 [==============================] - 0s 2ms/step - loss: 0.3534 - mae: 0.3534\n",
      "Epoch 81/100\n",
      "5/5 [==============================] - 0s 2ms/step - loss: 0.2535 - mae: 0.2535\n",
      "Epoch 82/100\n",
      "5/5 [==============================] - 0s 2ms/step - loss: 0.2197 - mae: 0.2197\n",
      "Epoch 83/100\n",
      "5/5 [==============================] - 0s 3ms/step - loss: 0.2535 - mae: 0.2535\n",
      "Epoch 84/100\n",
      "5/5 [==============================] - 0s 2ms/step - loss: 0.2571 - mae: 0.2571\n",
      "Epoch 85/100\n",
      "5/5 [==============================] - 0s 2ms/step - loss: 0.3101 - mae: 0.3101\n",
      "Epoch 86/100\n",
      "5/5 [==============================] - 0s 2ms/step - loss: 0.2425 - mae: 0.2425\n",
      "Epoch 87/100\n",
      "5/5 [==============================] - 0s 2ms/step - loss: 0.3144 - mae: 0.3144\n",
      "Epoch 88/100\n",
      "5/5 [==============================] - 0s 2ms/step - loss: 0.2894 - mae: 0.2894\n",
      "Epoch 89/100\n",
      "5/5 [==============================] - 0s 2ms/step - loss: 0.2764 - mae: 0.2764\n",
      "Epoch 90/100\n",
      "5/5 [==============================] - 0s 2ms/step - loss: 0.3090 - mae: 0.3090\n",
      "Epoch 91/100\n",
      "5/5 [==============================] - 0s 2ms/step - loss: 0.3116 - mae: 0.3116\n",
      "Epoch 92/100\n",
      "5/5 [==============================] - 0s 2ms/step - loss: 0.2481 - mae: 0.2481\n",
      "Epoch 93/100\n",
      "5/5 [==============================] - 0s 2ms/step - loss: 0.2793 - mae: 0.2793\n",
      "Epoch 94/100\n",
      "5/5 [==============================] - 0s 4ms/step - loss: 0.2649 - mae: 0.2649\n",
      "Epoch 95/100\n",
      "5/5 [==============================] - 0s 3ms/step - loss: 0.3050 - mae: 0.3050\n",
      "Epoch 96/100\n",
      "5/5 [==============================] - 0s 4ms/step - loss: 0.3598 - mae: 0.3598\n",
      "Epoch 97/100\n",
      "5/5 [==============================] - 0s 3ms/step - loss: 0.3816 - mae: 0.3816\n",
      "Epoch 98/100\n",
      "5/5 [==============================] - 0s 2ms/step - loss: 0.3314 - mae: 0.3314\n",
      "Epoch 99/100\n",
      "5/5 [==============================] - 0s 3ms/step - loss: 0.2561 - mae: 0.2561\n",
      "Epoch 100/100\n",
      "5/5 [==============================] - 0s 3ms/step - loss: 0.3485 - mae: 0.3485\n"
     ]
    }
   ],
   "source": [
    "# Let's build the model from scratch \n",
    "tf.random.set_seed(42)\n",
    "\n",
    "# Creating the model \n",
    "model_1 = tf.keras.Sequential([\n",
    "  tf.keras.layers.Dense(100), \n",
    "  tf.keras.layers.Dense(50), \n",
    "  tf.keras.layers.Dense(1) # Should be always one \n",
    "])\n",
    "\n",
    "# Compile the model \n",
    "model_1.compile(loss = tf.keras.losses.mae , \n",
    "               optimizer = tf.keras.optimizers.Adam() , \n",
    "                metrics = ['mae'])\n",
    "\n",
    "# Fit the model \n",
    "history = model_1.fit(X_train , y_train , epochs = 100)"
   ]
  },
  {
   "cell_type": "code",
   "execution_count": 150,
   "metadata": {},
   "outputs": [
    {
     "data": {
      "text/plain": [
       "<AxesSubplot:>"
      ]
     },
     "execution_count": 150,
     "metadata": {},
     "output_type": "execute_result"
    },
    {
     "data": {
      "image/png": "[encoded data removed]",
      "text/plain": [
       "<Figure size 640x480 with 1 Axes>"
      ]
     },
     "metadata": {},
     "output_type": "display_data"
    }
   ],
   "source": [
    "import pandas as pd\n",
    "pd.DataFrame(history.history).plot()"
   ]
  },
  {
   "cell_type": "code",
   "execution_count": 151,
   "metadata": {},
   "outputs": [
    {
     "name": "stdout",
     "output_type": "stream",
     "text": [
      "2/2 [==============================] - 0s 2ms/step - loss: 0.5406 - mae: 0.5406\n"
     ]
    },
    {
     "data": {
      "text/plain": [
       "[0.5405629277229309, 0.5405629277229309]"
      ]
     },
     "execution_count": 151,
     "metadata": {},
     "output_type": "execute_result"
    }
   ],
   "source": [
    "model_1.evaluate(X_test,y_test)"
   ]
  },
  {
   "cell_type": "code",
   "execution_count": 152,
   "metadata": {},
   "outputs": [
    {
     "name": "stdout",
     "output_type": "stream",
     "text": [
      "2/2 [==============================] - 0s 3ms/step\n"
     ]
    }
   ],
   "source": [
    "y_pred = model_1.predict(X_test)"
   ]
  },
  {
   "cell_type": "code",
   "execution_count": 180,
   "metadata": {},
   "outputs": [],
   "source": [
    "def plot_predictions(train_data,\n",
    "                     train_labels, \n",
    "                     test_data,\n",
    "                     test_labels, \n",
    "                     predictions):\n",
    "  \"\"\"\n",
    "  Plots training data, test data and compares predictions.\n",
    "  \"\"\"\n",
    "  plt.figure(figsize=(10, 7))\n",
    "  # Plot training data in blue\n",
    "  plt.scatter(train_data, train_labels, c=\"b\", label=\"Training data\")\n",
    "  # Plot test data in green\n",
    "  plt.scatter(test_data, test_labels, c=\"g\", label=\"Testing data\")\n",
    "  # Plot the predictions in red (predictions were made on the test data)\n",
    "  plt.scatter(test_data, predictions, c=\"r\", label=\"Predictions\")\n",
    "  # Show the legend\n",
    "  plt.legend()"
   ]
  },
  {
   "cell_type": "code",
   "execution_count": null,
   "metadata": {},
   "outputs": [],
   "source": [
    "X_train[: , 0]"
   ]
  },
  {
   "cell_type": "code",
   "execution_count": 181,
   "metadata": {},
   "outputs": [
    {
     "data": {
      "image/png": "[encoded data removed]",
      "text/plain": [
       "<Figure size 1000x700 with 1 Axes>"
      ]
     },
     "metadata": {},
     "output_type": "display_data"
    }
   ],
   "source": [
    "plot_predictions(X_train[: , 0], y_train, \n",
    "                 X_test[: , 0], y_test, \n",
    "                 y_pred)"
   ]
  },
  {
   "cell_type": "code",
   "execution_count": 182,
   "metadata": {},
   "outputs": [
    {
     "data": {
      "text/plain": [
       "array([[ 2.39741773e-01,  3.70470772e+02,  3.02722227e+02, ...,\n",
       "         2.79245404e+02,  3.57940652e+02,  4.34597764e+02],\n",
       "       [-3.70497166e+02, -2.66135809e-01, -6.80146809e+01, ...,\n",
       "        -9.14915042e+01, -1.27962558e+01,  6.38608560e+01],\n",
       "       [-3.03250081e+02,  6.69809498e+01, -7.67595324e-01, ...,\n",
       "        -2.42444186e+01,  5.44508298e+01,  1.31107942e+02],\n",
       "       ...,\n",
       "       [-2.78699490e+02,  9.15315403e+01,  2.37829952e+01, ...,\n",
       "         3.06171902e-01,  7.90014203e+01,  1.55658532e+02],\n",
       "       [-3.57805348e+02,  1.24256824e+01, -5.53228627e+01, ...,\n",
       "        -7.87996859e+01, -1.04437541e-01,  7.65526743e+01],\n",
       "       [-4.34570103e+02, -6.43390728e+01, -1.32087618e+02, ...,\n",
       "        -1.55564441e+02, -7.68691928e+01, -2.12080963e-01]])"
      ]
     },
     "execution_count": 182,
     "metadata": {},
     "output_type": "execute_result"
    }
   ],
   "source": [
    "ylinear_pred - y_pred"
   ]
  },
  {
   "cell_type": "code",
   "execution_count": null,
   "metadata": {},
   "outputs": [],
   "source": []
  }
 ],
 "metadata": {
  "kernelspec": {
   "display_name": "Python 3.9.13 ('base')",
   "language": "python",
   "name": "python3"
  },
  "language_info": {
   "codemirror_mode": {
    "name": "ipython",
    "version": 3
   },
   "file_extension": ".py",
   "mimetype": "text/x-python",
   "name": "python",
   "nbconvert_exporter": "python",
   "pygments_lexer": "ipython3",
   "version": "3.9.13"
  },
  "orig_nbformat": 4,
  "vscode": {
   "interpreter": {
    "hash": "53e68a57d2a06c69e5f7f32a159b5115500280d9f6f3f753ad5948db6e179d6d"
   }
  }
 },
 "nbformat": 4,
 "nbformat_minor": 2
}
